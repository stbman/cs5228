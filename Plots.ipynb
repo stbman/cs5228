{
 "metadata": {
  "name": "",
  "signature": "sha256:e7eee53fa8c6b06fef03ddc93b26740b8929bbd0efe9c454438b6d7400ef986d"
 },
 "nbformat": 3,
 "nbformat_minor": 0,
 "worksheets": [
  {
   "cells": [
    {
     "cell_type": "code",
     "collapsed": false,
     "input": [
      "import pandas as pd\n",
      "import plotly.plotly as py \n",
      "from plotly.graph_objs import *"
     ],
     "language": "python",
     "metadata": {},
     "outputs": [],
     "prompt_number": 1
    },
    {
     "cell_type": "code",
     "collapsed": false,
     "input": [
      "df = pd.read_csv('2007_weather.csv')"
     ],
     "language": "python",
     "metadata": {},
     "outputs": [
      {
       "output_type": "stream",
       "stream": "stderr",
       "text": [
        "/Library/Python/2.7/site-packages/pandas/io/parsers.py:1159: DtypeWarning:\n",
        "\n",
        "Columns (8,10) have mixed types. Specify dtype option on import or set low_memory=False.\n",
        "\n"
       ]
      }
     ],
     "prompt_number": 2
    },
    {
     "cell_type": "code",
     "collapsed": false,
     "input": [
      "df['TotalDelay'] = df.ArrDelay + df.DepDelay + df.CarrierDelay + df.WeatherDelay \\\n",
      "                    + df.NASDelay + df.SecurityDelay + df.LateAircraftDelay\n",
      "df['IsDelayed'] = df['TotalDelay'].apply(lambda x: 1 if x > 15 else 0)"
     ],
     "language": "python",
     "metadata": {},
     "outputs": [],
     "prompt_number": 3
    },
    {
     "cell_type": "heading",
     "level": 4,
     "metadata": {},
     "source": [
      "To know what attributes this dataframe has"
     ]
    },
    {
     "cell_type": "code",
     "collapsed": false,
     "input": [
      "df.info()"
     ],
     "language": "python",
     "metadata": {},
     "outputs": [
      {
       "output_type": "stream",
       "stream": "stdout",
       "text": [
        "<class 'pandas.core.frame.DataFrame'>\n",
        "Int64Index: 7453215 entries, 0 to 7453214\n",
        "Data columns (total 35 columns):\n",
        "Year                 int64\n",
        "Month                int64\n",
        "DayofMonth           int64\n",
        "DayOfWeek            int64\n",
        "DepTime              float64\n",
        "CRSDepTime           int64\n",
        "ArrTime              float64\n",
        "CRSArrTime           int64\n",
        "UniqueCarrier        object\n",
        "FlightNum            int64\n",
        "TailNum              object\n",
        "ActualElapsedTime    float64\n",
        "CRSElapsedTime       float64\n",
        "AirTime              float64\n",
        "ArrDelay             float64\n",
        "DepDelay             float64\n",
        "Origin               object\n",
        "Dest                 object\n",
        "Distance             int64\n",
        "TaxiIn               int64\n",
        "TaxiOut              int64\n",
        "Cancelled            int64\n",
        "CancellationCode     object\n",
        "Diverted             int64\n",
        "CarrierDelay         int64\n",
        "WeatherDelay         int64\n",
        "NASDelay             int64\n",
        "SecurityDelay        int64\n",
        "LateAircraftDelay    int64\n",
        "tmax                 float64\n",
        "tmin                 float64\n",
        "wind                 float64\n",
        "precipitation        float64\n",
        "TotalDelay           float64\n",
        "IsDelayed            int64\n",
        "dtypes: float64(12), int64(18), object(5)\n",
        "memory usage: 2.0+ GB\n"
       ]
      }
     ],
     "prompt_number": 4
    },
    {
     "cell_type": "heading",
     "level": 4,
     "metadata": {},
     "source": [
      "Total Number of Delays and On Times"
     ]
    },
    {
     "cell_type": "code",
     "collapsed": false,
     "input": [
      "num_delays = df['IsDelayed'].sum()\n",
      "print \"Number of Delays: \", num_delays\n",
      "print \"Percentage of Flights Delayed: \", num_delays*1.0/len(df['IsDelayed'])"
     ],
     "language": "python",
     "metadata": {},
     "outputs": [
      {
       "output_type": "stream",
       "stream": "stdout",
       "text": [
        "Number of Delays:  2244514\n",
        "Percentage of Flights Delayed:  0.301147088874\n"
       ]
      }
     ],
     "prompt_number": 5
    },
    {
     "cell_type": "heading",
     "level": 4,
     "metadata": {},
     "source": [
      "Delayed in Airports by Time in Minutes"
     ]
    },
    {
     "cell_type": "code",
     "collapsed": false,
     "input": [
      "grouped_by_delay = df[['ArrDelay', 'DepDelay', 'WeatherDelay', 'NASDelay', 'SecurityDelay', \\\n",
      "             'CarrierDelay', 'LateAircraftDelay', 'Origin']].groupby('Origin').mean()\n",
      "gdelay = pd.DataFrame(grouped_by_delay)\n",
      "gdelay['TotalDelay'] = gdelay.ArrDelay + gdelay.DepDelay + gdelay.CarrierDelay + \\\n",
      "                        gdelay.WeatherDelay + gdelay.NASDelay + gdelay.SecurityDelay + \\\n",
      "                        gdelay.LateAircraftDelay\n",
      "gdelay = gdelay.sort(['TotalDelay'], ascending=False)[:20]\n",
      "gdelay = gdelay.drop(['TotalDelay'], axis=1)"
     ],
     "language": "python",
     "metadata": {},
     "outputs": [],
     "prompt_number": 7
    },
    {
     "cell_type": "code",
     "collapsed": false,
     "input": [
      "py.iplot({\n",
      "    'data': [Bar(\n",
      "        x=gdelay.index, \n",
      "        y=gdelay[col],\n",
      "        name=col\n",
      "        ) for col in gdelay.columns],\n",
      "    'layout': Layout(\n",
      "        barmode='stack',\n",
      "        xaxis={'title': 'Origin Airport Code'},\n",
      "        yaxis={'title': 'Delay in Minutes'},\n",
      "        title='Top 20 most delayed Airports'\n",
      "    )\n",
      "}, filename='delayedairports_2.png')"
     ],
     "language": "python",
     "metadata": {},
     "outputs": [
      {
       "html": [
        "<iframe id=\"igraph\" scrolling=\"no\" style=\"border:none;\"seamless=\"seamless\" src=\"https://plot.ly/~quarbby/14.embed\" height=\"525px\" width=\"100%\"></iframe>"
       ],
       "metadata": {},
       "output_type": "pyout",
       "prompt_number": 8,
       "text": [
        "<plotly.tools.PlotlyDisplay at 0x11a2e5ed0>"
       ]
      }
     ],
     "prompt_number": 8
    },
    {
     "cell_type": "heading",
     "level": 4,
     "metadata": {},
     "source": [
      "Number of Delays by Origin Airport"
     ]
    },
    {
     "cell_type": "code",
     "collapsed": false,
     "input": [
      "grouped_by_origin = df[['IsDelayed', 'Origin']].groupby('Origin').sum()\n",
      "gorigin = pd.DataFrame(grouped_by_origin)\n",
      "gorigin = gorigin.sort(['IsDelayed'], ascending=False)[:20]"
     ],
     "language": "python",
     "metadata": {},
     "outputs": [],
     "prompt_number": 9
    },
    {
     "cell_type": "code",
     "collapsed": false,
     "input": [
      "py.iplot({\n",
      "    'data': [Bar(\n",
      "        x=gorigin.index, \n",
      "        y=gorigin['IsDelayed']\n",
      "        )],\n",
      "    'layout': Layout(\n",
      "        xaxis={'title': 'Origin Airport Code'},\n",
      "        yaxis={'title': 'Number of Delays'},\n",
      "        title='Top 20 most number of delays Airports in 2007'\n",
      "    )\n",
      "}, filename='num_delays.png')"
     ],
     "language": "python",
     "metadata": {},
     "outputs": [
      {
       "html": [
        "<iframe id=\"igraph\" scrolling=\"no\" style=\"border:none;\"seamless=\"seamless\" src=\"https://plot.ly/~quarbby/24.embed\" height=\"525px\" width=\"100%\"></iframe>"
       ],
       "metadata": {},
       "output_type": "pyout",
       "prompt_number": 10,
       "text": [
        "<plotly.tools.PlotlyDisplay at 0x166f99750>"
       ]
      }
     ],
     "prompt_number": 10
    },
    {
     "cell_type": "heading",
     "level": 4,
     "metadata": {},
     "source": [
      "Day of Month vs Number of Delays"
     ]
    },
    {
     "cell_type": "code",
     "collapsed": false,
     "input": [
      "grouped_by_month = df[['IsDelayed', 'DayofMonth']].groupby('DayofMonth').sum()\n",
      "gmonth = pd.DataFrame(grouped_by_month)"
     ],
     "language": "python",
     "metadata": {},
     "outputs": [],
     "prompt_number": 11
    },
    {
     "cell_type": "code",
     "collapsed": false,
     "input": [
      "py.iplot({\n",
      "    'data': [Bar(\n",
      "        x=gmonth.index, \n",
      "        y=gmonth['IsDelayed']\n",
      "        )],\n",
      "    'layout': Layout(\n",
      "        xaxis={'title': 'Day of Month'},\n",
      "        yaxis={'title': 'Number of Delays'},\n",
      "        title='Number of Delays by Day of Month in 2007'\n",
      "    )\n",
      "}, filename='dayofmonth_delays.png')"
     ],
     "language": "python",
     "metadata": {},
     "outputs": [
      {
       "html": [
        "<iframe id=\"igraph\" scrolling=\"no\" style=\"border:none;\"seamless=\"seamless\" src=\"https://plot.ly/~quarbby/32.embed\" height=\"525px\" width=\"100%\"></iframe>"
       ],
       "metadata": {},
       "output_type": "pyout",
       "prompt_number": 12,
       "text": [
        "<plotly.tools.PlotlyDisplay at 0x13a6ec550>"
       ]
      }
     ],
     "prompt_number": 12
    },
    {
     "cell_type": "heading",
     "level": 4,
     "metadata": {},
     "source": [
      "Month vs Number of Delays"
     ]
    },
    {
     "cell_type": "code",
     "collapsed": false,
     "input": [
      "grouped_by_month = df[['IsDelayed', 'Month']].groupby('Month').sum()\n",
      "gmonth = pd.DataFrame(grouped_by_month)"
     ],
     "language": "python",
     "metadata": {},
     "outputs": [],
     "prompt_number": 13
    },
    {
     "cell_type": "code",
     "collapsed": false,
     "input": [
      "py.iplot({\n",
      "    'data': [Bar(\n",
      "        x=gmonth.index, \n",
      "        y=gmonth['IsDelayed']\n",
      "        )],\n",
      "    'layout': Layout(\n",
      "        xaxis={'title': 'Month'},\n",
      "        yaxis={'title': 'Number of Delays'},\n",
      "        title='Number of Delays by Month in 2007'\n",
      "    )\n",
      "}, filename='month_delays.png')"
     ],
     "language": "python",
     "metadata": {},
     "outputs": [
      {
       "html": [
        "<iframe id=\"igraph\" scrolling=\"no\" style=\"border:none;\"seamless=\"seamless\" src=\"https://plot.ly/~quarbby/30.embed\" height=\"525px\" width=\"100%\"></iframe>"
       ],
       "metadata": {},
       "output_type": "pyout",
       "prompt_number": 14,
       "text": [
        "<plotly.tools.PlotlyDisplay at 0x166f99f50>"
       ]
      }
     ],
     "prompt_number": 14
    },
    {
     "cell_type": "heading",
     "level": 4,
     "metadata": {},
     "source": [
      "Day of Week vs Number of Delays"
     ]
    },
    {
     "cell_type": "code",
     "collapsed": false,
     "input": [
      "grouped_by_week = df[['IsDelayed', 'DayOfWeek']].groupby('DayOfWeek').sum()\n",
      "gweek = pd.DataFrame(grouped_by_week)"
     ],
     "language": "python",
     "metadata": {},
     "outputs": [],
     "prompt_number": 15
    },
    {
     "cell_type": "code",
     "collapsed": false,
     "input": [
      "daysOfWeek = ['Mon', 'Tue', 'Wed', 'Thur', 'Fri', 'Sat', 'Sun']\n",
      "total_delays = gweek['IsDelayed'].sum()\n",
      "size = [float(day)/total_delays*100 for day in gweek['IsDelayed']]\n",
      "size = [x*5 for x in size]\n",
      "\n",
      "py.iplot({\n",
      "    'data': [Scatter(\n",
      "        x=daysOfWeek, \n",
      "        y=gweek['IsDelayed'],\n",
      "        mode='markers+text',\n",
      "        marker=dict(\n",
      "                color=['rgb(93, 164, 214)', 'rgb(255, 144, 14)',  \n",
      "                       'rgb(44, 160, 101)', 'rgb(255, 65, 54)',\n",
      "                       'rgb(55,120, 103)', 'rgb(34, 244, 235)',\n",
      "                       'rgb(233, 230, 34)'],\n",
      "                opacity=[0.6, 0.6, 0.6, 0.6, 0.6, 0.6, 0.6],\n",
      "                size=size,\n",
      "            ),\n",
      "        text = gweek.as_matrix(['IsDelayed']).flatten()\n",
      "    )],\n",
      "    'layout': Layout(\n",
      "        xaxis={'title': 'Day of Week'},\n",
      "        yaxis={'title': 'Number of Delays'},\n",
      "        title='Number of Delays by Day of Week in 2007'\n",
      "    )\n",
      "}, filename='bubble_week_delays.png')"
     ],
     "language": "python",
     "metadata": {},
     "outputs": [
      {
       "html": [
        "<iframe id=\"igraph\" scrolling=\"no\" style=\"border:none;\"seamless=\"seamless\" src=\"https://plot.ly/~quarbby/45.embed\" height=\"525px\" width=\"100%\"></iframe>"
       ],
       "metadata": {},
       "output_type": "pyout",
       "prompt_number": 16,
       "text": [
        "<plotly.tools.PlotlyDisplay at 0x12b13fcd0>"
       ]
      }
     ],
     "prompt_number": 16
    },
    {
     "cell_type": "heading",
     "level": 4,
     "metadata": {},
     "source": [
      "Now the standard plot"
     ]
    },
    {
     "cell_type": "code",
     "collapsed": false,
     "input": [
      "daysOfWeek = ['Mon', 'Tue', 'Wed', 'Thur', 'Fri', 'Sat', 'Sun']\n",
      "py.iplot({\n",
      "    'data': [Bar(\n",
      "        x=gweek.index, \n",
      "        y=gweek['IsDelayed']\n",
      "        )],\n",
      "    'layout': Layout(\n",
      "        xaxis={'title': 'Day of Week'},\n",
      "        yaxis={'title': 'Number of Delays'},\n",
      "        title='Number of Delays by Day of Week in 2007'\n",
      "    )\n",
      "}, filename='week_delays.png')"
     ],
     "language": "python",
     "metadata": {},
     "outputs": [
      {
       "html": [
        "<iframe id=\"igraph\" scrolling=\"no\" style=\"border:none;\"seamless=\"seamless\" src=\"https://plot.ly/~quarbby/34.embed\" height=\"525px\" width=\"100%\"></iframe>"
       ],
       "metadata": {},
       "output_type": "pyout",
       "prompt_number": 17,
       "text": [
        "<plotly.tools.PlotlyDisplay at 0x13a6ecc10>"
       ]
      }
     ],
     "prompt_number": 17
    },
    {
     "cell_type": "heading",
     "level": 4,
     "metadata": {},
     "source": [
      "Unique Carrier vs Number of Delays"
     ]
    },
    {
     "cell_type": "code",
     "collapsed": false,
     "input": [
      "grouped_by_carrier = df[['IsDelayed', 'UniqueCarrier']].groupby('UniqueCarrier').sum()\n",
      "gcarrier = pd.DataFrame(grouped_by_carrier)\n",
      "gcarrier = gcarrier.sort(['IsDelayed'], ascending=False)"
     ],
     "language": "python",
     "metadata": {},
     "outputs": [],
     "prompt_number": 18
    },
    {
     "cell_type": "code",
     "collapsed": false,
     "input": [
      "py.iplot({\n",
      "    'data': [Bar(\n",
      "        x=gcarrier.index, \n",
      "        y=gcarrier['IsDelayed']\n",
      "        )],\n",
      "    'layout': Layout(\n",
      "        xaxis={'title': 'Unique Carriers'},\n",
      "        yaxis={'title': 'Number of Delays'},\n",
      "        title='Top 20 most number of delays Carriers in 2007'\n",
      "    )\n",
      "}, filename='carrier_delays.png')"
     ],
     "language": "python",
     "metadata": {},
     "outputs": [
      {
       "html": [
        "<iframe id=\"igraph\" scrolling=\"no\" style=\"border:none;\"seamless=\"seamless\" src=\"https://plot.ly/~quarbby/26.embed\" height=\"525px\" width=\"100%\"></iframe>"
       ],
       "metadata": {},
       "output_type": "pyout",
       "prompt_number": 19,
       "text": [
        "<plotly.tools.PlotlyDisplay at 0x11a2e5f90>"
       ]
      }
     ],
     "prompt_number": 19
    },
    {
     "cell_type": "heading",
     "level": 4,
     "metadata": {},
     "source": [
      "Weather vs Delays"
     ]
    },
    {
     "cell_type": "code",
     "collapsed": false,
     "input": [
      "%matplotlib inline \n",
      "\n",
      "import numpy as np\n",
      "from sklearn import linear_model\n",
      "from matplotlib import pyplot as plt\n",
      "\n",
      "df = df.dropna(subset=['tmax', 'TotalDelay'])\n",
      "\n",
      "length = df['tmax'].size\n",
      "X = df['tmax'].reshape(length, 1)\n",
      "Y = df['TotalDelay'].reshape(length, 1)\n",
      "\n",
      "regr = linear_model.LinearRegression()\n",
      "regr.fit(X, Y)\n",
      "fig = plt.figure()\n",
      "#plt.scatter(X, Y,  color='black')\n",
      "plt.plot(X, regr.predict(X), color='red', linewidth=3)\n",
      "plt.xlabel(\"Weather in Farenheit\")\n",
      "plt.ylabel(\"Delay in Minutes\")\n",
      "plt.title(\"Weather vs Delay\")\n",
      "x1,x2,y1,y2 = plt.axis()\n",
      "#plt.axis((x1,x2,33,38))\n",
      "plt.show()"
     ],
     "language": "python",
     "metadata": {},
     "outputs": [
      {
       "metadata": {},
       "output_type": "display_data",
       "png": "[encoded data removed]",
       "text": [
        "<matplotlib.figure.Figure at 0x10a489f50>"
       ]
      }
     ],
     "prompt_number": 20
    },
    {
     "cell_type": "code",
     "collapsed": false,
     "input": [],
     "language": "python",
     "metadata": {},
     "outputs": []
    }
   ],
   "metadata": {}
  }
 ]
}