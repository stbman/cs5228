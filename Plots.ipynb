{
 "metadata": {
  "name": "",
  "signature": "sha256:c31701b67578d1b14b630841b3b6598e4fefe6802827a377cb24e6895a67eb85"
 },
 "nbformat": 3,
 "nbformat_minor": 0,
 "worksheets": [
  {
   "cells": [
    {
     "cell_type": "code",
     "collapsed": false,
     "input": [
      "import pandas as pd\n",
      "import matplotlib.pyplot as plt\n",
      "import plotly.plotly as py \n",
      "from plotly.graph_objs import *"
     ],
     "language": "python",
     "metadata": {},
     "outputs": [],
     "prompt_number": 4
    },
    {
     "cell_type": "code",
     "collapsed": false,
     "input": [
      "df = pd.read_csv('data/2007_weather.csv')"
     ],
     "language": "python",
     "metadata": {},
     "outputs": [],
     "prompt_number": 5
    },
    {
     "cell_type": "code",
     "collapsed": false,
     "input": [
      "df['TotalDelay'] = df.ArrDelay + df.DepDelay + df.CarrierDelay + df.WeatherDelay \\\n",
      "                    + df.NASDelay + df.SecurityDelay + df.LateAircraftDelay\t\n",
      "df['IsDelayed'] = df['TotalDelay'].apply(lambda x: 1 if x > 0 else 0)"
     ],
     "language": "python",
     "metadata": {},
     "outputs": [],
     "prompt_number": 6
    },
    {
     "cell_type": "code",
     "collapsed": false,
     "input": [
      "grouped_by_delay = df[['TotalDelay', 'ArrDelay', 'DepDelay', 'WeatherDelay', \\\n",
      "              'NASDelay', 'SecurityDelay', 'LateAircraftDelay', 'Origin']].groupby('Origin').mean()\n",
      "gdelay = pd.DataFrame(grouped_by_delay)\n",
      "gdelay = gdelay.sort(['TotalDelay'], ascending=False)\n",
      "df2 = pd.DataFrame(gdelay)[:20]"
     ],
     "language": "python",
     "metadata": {},
     "outputs": []
    },
    {
     "cell_type": "code",
     "collapsed": false,
     "input": [
      "py.iplot({\n",
      "    'data': [Bar(\n",
      "        x=df2.index, \n",
      "        y=df2[col],\n",
      "        name=col\n",
      "        ) for col in df2.columns],\n",
      "    'layout': Layout(\n",
      "        xaxis={'title': 'Origin Airport Code'},\n",
      "        yaxis={'title': 'Delay in Minutes'},\n",
      "        title='Top 20 most delayed Airports'\n",
      "    )\n",
      "}, filename='delayedairports_2.png')"
     ],
     "language": "python",
     "metadata": {},
     "outputs": [
      {
       "html": [
        "<iframe id=\"igraph\" scrolling=\"no\" style=\"border:none;\"seamless=\"seamless\" src=\"https://plot.ly/~quarbby/14.embed\" height=\"525px\" width=\"100%\"></iframe>"
       ],
       "metadata": {},
       "output_type": "pyout",
       "prompt_number": 9,
       "text": [
        "<plotly.tools.PlotlyDisplay at 0x17c04f310>"
       ]
      }
     ],
     "prompt_number": 9
    },
    {
     "cell_type": "code",
     "collapsed": false,
     "input": [],
     "language": "python",
     "metadata": {},
     "outputs": []
    }
   ],
   "metadata": {}
  }
 ]
}