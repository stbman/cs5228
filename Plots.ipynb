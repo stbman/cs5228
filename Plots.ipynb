{
 "metadata": {
  "name": "",
  "signature": "sha256:f72d6fd03c8eef79690da80dfc05bff86145eedd4615f89760340424296d1dab"
 },
 "nbformat": 3,
 "nbformat_minor": 0,
 "worksheets": [
  {
   "cells": [
    {
     "cell_type": "code",
     "collapsed": false,
     "input": [
      "import pandas as pd\n",
      "import matplotlib.pyplot as plt\n",
      "from IPython.display import display\n",
      "import plotly.plotly as py \n",
      "from plotly.graph_objs import *"
     ],
     "language": "python",
     "metadata": {},
     "outputs": []
    },
    {
     "cell_type": "code",
     "collapsed": false,
     "input": [
      "df = pd.read_csv('data/2007_weather.csv')"
     ],
     "language": "python",
     "metadata": {},
     "outputs": [],
     "prompt_number": 18
    },
    {
     "cell_type": "code",
     "collapsed": false,
     "input": [
      "df['TotalDelay'] = df.ArrDelay + df.DepDelay + df.CarrierDelay + df.WeatherDelay \\\n",
      "                    + df.NASDelay + df.SecurityDelay + df.LateAircraftDelay\n",
      "df['IsDelayed'] = df['TotalDelay'].apply(lambda x: 1 if x > 0 else 0)"
     ],
     "language": "python",
     "metadata": {},
     "outputs": [],
     "prompt_number": 19
    },
    {
     "cell_type": "heading",
     "level": 4,
     "metadata": {},
     "source": [
      "To know what attributes this dataframe has"
     ]
    },
    {
     "cell_type": "code",
     "collapsed": false,
     "input": [
      "df.info()"
     ],
     "language": "python",
     "metadata": {},
     "outputs": [
      {
       "output_type": "stream",
       "stream": "stdout",
       "text": [
        "<class 'pandas.core.frame.DataFrame'>\n",
        "Int64Index: 7453215 entries, 0 to 7453214\n",
        "Data columns (total 35 columns):\n",
        "Year                 int64\n",
        "Month                int64\n",
        "DayofMonth           int64\n",
        "DayOfWeek            int64\n",
        "DepTime              float64\n",
        "CRSDepTime           int64\n",
        "ArrTime              float64\n",
        "CRSArrTime           int64\n",
        "UniqueCarrier        object\n",
        "FlightNum            int64\n",
        "TailNum              object\n",
        "ActualElapsedTime    float64\n",
        "CRSElapsedTime       float64\n",
        "AirTime              float64\n",
        "ArrDelay             float64\n",
        "DepDelay             float64\n",
        "Origin               object\n",
        "Dest                 object\n",
        "Distance             int64\n",
        "TaxiIn               int64\n",
        "TaxiOut              int64\n",
        "Cancelled            int64\n",
        "CancellationCode     object\n",
        "Diverted             int64\n",
        "CarrierDelay         int64\n",
        "WeatherDelay         int64\n",
        "NASDelay             int64\n",
        "SecurityDelay        int64\n",
        "LateAircraftDelay    int64\n",
        "tmax                 float64\n",
        "tmin                 float64\n",
        "wind                 float64\n",
        "precipitation        float64\n",
        "TotalDelay           float64\n",
        "IsDelayed            int64\n",
        "dtypes: float64(12), int64(18), object(5)\n",
        "memory usage: 2.0+ GB\n"
       ]
      }
     ],
     "prompt_number": 25
    },
    {
     "cell_type": "heading",
     "level": 4,
     "metadata": {},
     "source": [
      "Delayed in Airports by Time in Minutes"
     ]
    },
    {
     "cell_type": "code",
     "collapsed": false,
     "input": [
      "grouped_by_delay = df[['ArrDelay', 'DepDelay', 'WeatherDelay', 'NASDelay', 'SecurityDelay', \\\n",
      "             'CarrierDelay', 'LateAircraftDelay', 'Origin']].groupby('Origin').mean()\n",
      "gdelay = pd.DataFrame(grouped_by_delay)\n",
      "gdelay['TotalDelay'] = gdelay.ArrDelay + gdelay.DepDelay + gdelay.CarrierDelay + \\\n",
      "                        gdelay.WeatherDelay + gdelay.NASDelay + gdelay.SecurityDelay + \\\n",
      "                        gdelay.LateAircraftDelay\n",
      "gdelay = gdelay.sort(['TotalDelay'], ascending=False)[:20]\n",
      "gdelay = gdelay.drop(['TotalDelay'], axis=1)"
     ],
     "language": "python",
     "metadata": {},
     "outputs": [],
     "prompt_number": 52
    },
    {
     "cell_type": "code",
     "collapsed": false,
     "input": [
      "py.iplot({\n",
      "    'data': [Bar(\n",
      "        x=gdelay.index, \n",
      "        y=gdelay[col],\n",
      "        name=col\n",
      "        ) for col in gdelay.columns],\n",
      "    'layout': Layout(\n",
      "        barmode='stack',\n",
      "        xaxis={'title': 'Origin Airport Code'},\n",
      "        yaxis={'title': 'Delay in Minutes'},\n",
      "        title='Top 20 most delayed Airports'\n",
      "    )\n",
      "}, filename='delayedairports_2.png')"
     ],
     "language": "python",
     "metadata": {},
     "outputs": [
      {
       "html": [
        "<iframe id=\"igraph\" scrolling=\"no\" style=\"border:none;\"seamless=\"seamless\" src=\"https://plot.ly/~quarbby/14.embed\" height=\"525px\" width=\"100%\"></iframe>"
       ],
       "metadata": {},
       "output_type": "pyout",
       "prompt_number": 54,
       "text": [
        "<plotly.tools.PlotlyDisplay at 0x1823cbbd0>"
       ]
      }
     ],
     "prompt_number": 54
    },
    {
     "cell_type": "heading",
     "level": 4,
     "metadata": {},
     "source": [
      "Number of Delays by Origin Airport"
     ]
    },
    {
     "cell_type": "code",
     "collapsed": false,
     "input": [
      "grouped_by_origin = df[['IsDelayed', 'Origin']].groupby('Origin').sum()\n",
      "gorigin = pd.DataFrame(grouped_by_origin)\n",
      "gorigin = gorigin.sort(['IsDelayed'], ascending=False)[:20]"
     ],
     "language": "python",
     "metadata": {},
     "outputs": [],
     "prompt_number": 22
    },
    {
     "cell_type": "code",
     "collapsed": false,
     "input": [
      "py.iplot({\n",
      "    'data': [Bar(\n",
      "        x=gorigin.index, \n",
      "        y=gorigin['IsDelayed']\n",
      "        )],\n",
      "    'layout': Layout(\n",
      "        xaxis={'title': 'Origin Airport Code'},\n",
      "        yaxis={'title': 'Number of Delays'},\n",
      "        title='Top 20 most number of delays Airports in 2007'\n",
      "    )\n",
      "}, filename='num_delays.png')"
     ],
     "language": "python",
     "metadata": {},
     "outputs": [
      {
       "html": [
        "<iframe id=\"igraph\" scrolling=\"no\" style=\"border:none;\"seamless=\"seamless\" src=\"https://plot.ly/~quarbby/24.embed\" height=\"525px\" width=\"100%\"></iframe>"
       ],
       "metadata": {},
       "output_type": "pyout",
       "prompt_number": 24,
       "text": [
        "<plotly.tools.PlotlyDisplay at 0x111615bd0>"
       ]
      }
     ],
     "prompt_number": 24
    },
    {
     "cell_type": "heading",
     "level": 4,
     "metadata": {},
     "source": [
      "Day of Month vs Number of Delays"
     ]
    },
    {
     "cell_type": "code",
     "collapsed": false,
     "input": [
      "grouped_by_month = df[['IsDelayed', 'DayofMonth']].groupby('DayofMonth').sum()\n",
      "gmonth = pd.DataFrame(grouped_by_month)"
     ],
     "language": "python",
     "metadata": {},
     "outputs": [],
     "prompt_number": 42
    },
    {
     "cell_type": "code",
     "collapsed": false,
     "input": [
      "py.iplot({\n",
      "    'data': [Bar(\n",
      "        x=gmonth.index, \n",
      "        y=gmonth['IsDelayed']\n",
      "        )],\n",
      "    'layout': Layout(\n",
      "        xaxis={'title': 'Day of Month'},\n",
      "        yaxis={'title': 'Number of Delays'},\n",
      "        title='Number of Delays by Day of Month in 2007'\n",
      "    )\n",
      "}, filename='dayofmonth_delays.png')"
     ],
     "language": "python",
     "metadata": {},
     "outputs": [
      {
       "html": [
        "<iframe id=\"igraph\" scrolling=\"no\" style=\"border:none;\"seamless=\"seamless\" src=\"https://plot.ly/~quarbby/32.embed\" height=\"525px\" width=\"100%\"></iframe>"
       ],
       "metadata": {},
       "output_type": "pyout",
       "prompt_number": 43,
       "text": [
        "<plotly.tools.PlotlyDisplay at 0x122da2410>"
       ]
      }
     ],
     "prompt_number": 43
    },
    {
     "cell_type": "heading",
     "level": 4,
     "metadata": {},
     "source": [
      "Month vs Number of Delays"
     ]
    },
    {
     "cell_type": "code",
     "collapsed": false,
     "input": [
      "grouped_by_month = df[['IsDelayed', 'Month']].groupby('Month').sum()\n",
      "gmonth = pd.DataFrame(grouped_by_month)"
     ],
     "language": "python",
     "metadata": {},
     "outputs": [],
     "prompt_number": 44
    },
    {
     "cell_type": "code",
     "collapsed": false,
     "input": [
      "py.iplot({\n",
      "    'data': [Bar(\n",
      "        x=gmonth.index, \n",
      "        y=gmonth['IsDelayed']\n",
      "        )],\n",
      "    'layout': Layout(\n",
      "        xaxis={'title': 'Month'},\n",
      "        yaxis={'title': 'Number of Delays'},\n",
      "        title='Number of Delays by Month in 2007'\n",
      "    )\n",
      "}, filename='month_delays.png')"
     ],
     "language": "python",
     "metadata": {},
     "outputs": [
      {
       "html": [
        "<iframe id=\"igraph\" scrolling=\"no\" style=\"border:none;\"seamless=\"seamless\" src=\"https://plot.ly/~quarbby/30.embed\" height=\"525px\" width=\"100%\"></iframe>"
       ],
       "metadata": {},
       "output_type": "pyout",
       "prompt_number": 45,
       "text": [
        "<plotly.tools.PlotlyDisplay at 0x114201090>"
       ]
      }
     ],
     "prompt_number": 45
    },
    {
     "cell_type": "heading",
     "level": 4,
     "metadata": {},
     "source": [
      "Day of Week vs Number of Delays"
     ]
    },
    {
     "cell_type": "code",
     "collapsed": false,
     "input": [
      "grouped_by_week = df[['IsDelayed', 'DayOfWeek']].groupby('DayOfWeek').sum()\n",
      "gweek = pd.DataFrame(grouped_by_week)"
     ],
     "language": "python",
     "metadata": {},
     "outputs": [],
     "prompt_number": 46
    },
    {
     "cell_type": "code",
     "collapsed": false,
     "input": [
      "py.iplot({\n",
      "    'data': [Bar(\n",
      "        x=gweek.index, \n",
      "        y=gweek['IsDelayed']\n",
      "        )],\n",
      "    'layout': Layout(\n",
      "        xaxis={'title': 'Day of Week'},\n",
      "        yaxis={'title': 'Number of Delays'},\n",
      "        title='Number of Delays by Day of Week in 2007'\n",
      "    )\n",
      "}, filename='week_delays.png')"
     ],
     "language": "python",
     "metadata": {},
     "outputs": [
      {
       "html": [
        "<iframe id=\"igraph\" scrolling=\"no\" style=\"border:none;\"seamless=\"seamless\" src=\"https://plot.ly/~quarbby/34.embed\" height=\"525px\" width=\"100%\"></iframe>"
       ],
       "metadata": {},
       "output_type": "pyout",
       "prompt_number": 47,
       "text": [
        "<plotly.tools.PlotlyDisplay at 0x122da2a10>"
       ]
      }
     ],
     "prompt_number": 47
    },
    {
     "cell_type": "heading",
     "level": 4,
     "metadata": {},
     "source": [
      "Unique Carrier vs Number of Delays"
     ]
    },
    {
     "cell_type": "code",
     "collapsed": false,
     "input": [
      "grouped_by_carrier = df[['IsDelayed', 'UniqueCarrier']].groupby('UniqueCarrier').sum()\n",
      "gcarrier = pd.DataFrame(grouped_by_carrier)\n",
      "gcarrier = gcarrier.sort(['IsDelayed'], ascending=False)"
     ],
     "language": "python",
     "metadata": {},
     "outputs": [],
     "prompt_number": 27
    },
    {
     "cell_type": "code",
     "collapsed": false,
     "input": [
      "py.iplot({\n",
      "    'data': [Bar(\n",
      "        x=gcarrier.index, \n",
      "        y=gcarrier['IsDelayed']\n",
      "        )],\n",
      "    'layout': Layout(\n",
      "        xaxis={'title': 'Unique Carriers'},\n",
      "        yaxis={'title': 'Number of Delays'},\n",
      "        title='Top 20 most number of delays Carriers in 2007'\n",
      "    )\n",
      "}, filename='carrier_delays.png')"
     ],
     "language": "python",
     "metadata": {},
     "outputs": [
      {
       "html": [
        "<iframe id=\"igraph\" scrolling=\"no\" style=\"border:none;\"seamless=\"seamless\" src=\"https://plot.ly/~quarbby/26.embed\" height=\"525px\" width=\"100%\"></iframe>"
       ],
       "metadata": {},
       "output_type": "pyout",
       "prompt_number": 29,
       "text": [
        "<plotly.tools.PlotlyDisplay at 0x111acad90>"
       ]
      }
     ],
     "prompt_number": 29
    },
    {
     "cell_type": "code",
     "collapsed": false,
     "input": [],
     "language": "python",
     "metadata": {},
     "outputs": []
    }
   ],
   "metadata": {}
  }
 ]
}