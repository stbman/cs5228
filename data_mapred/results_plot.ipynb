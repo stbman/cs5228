{
 "cells": [
  {
   "cell_type": "code",
   "execution_count": 43,
   "metadata": {
    "collapsed": false
   },
   "outputs": [
    {
     "data": {
      "text/html": [
       "<iframe id=\"igraph\" scrolling=\"no\" style=\"border:none;\"seamless=\"seamless\" src=\"https://plot.ly/~mech2/62.embed\" height=\"600px\" width=\"600px\"></iframe>"
      ],
      "text/plain": [
       "<plotly.tools.PlotlyDisplay object>"
      ]
     },
     "execution_count": 43,
     "metadata": {},
     "output_type": "execute_result"
    }
   ],
   "source": [
    "#!/usr/bin/env python2\n",
    "import numpy as np\n",
    "import plotly.plotly as py\n",
    "import plotly.graph_objs as go\n",
    "\n",
    "#Gradient Boosted Regressor\n",
    "title = \"Gradient Boosted Regressor (k=n/2)\"\n",
    "windowsize_limit = 300000\n",
    "filename = \"gbr2\"\n",
    "\n",
    "#Ada Boost Decision Tree Regressor\n",
    "title = \"Ada Boost Decision Tree (k=n/2)\"\n",
    "windowsize_limit = 800000\n",
    "filename = \"adr2\"\n",
    "\n",
    "title = \"Ada Boost Decision Tree (k=n/3)\"\n",
    "windowsize_limit = 800000\n",
    "filename = \"adr3\"\n",
    "\n",
    "#Support Vector Machines\n",
    "\n",
    "#Decision Trees\n",
    "title = \"Decision Tree (k=n/2)\"\n",
    "windowsize_limit = 300000\n",
    "filename = \"tree2\"\n",
    "\n",
    "#Bernoulli Neural Network\n",
    "title = \"Bernoulli Neural Network (k=n/2)\"\n",
    "windowsize_limit = 300000\n",
    "filename = \"bnn2\"\n",
    "\n",
    "results_arr = []\n",
    "winsize_arr = []\n",
    "\n",
    "with open(filename + \".txt\") as f:\n",
    "    lines = f.readlines()\n",
    "    for row, line in enumerate(lines):\n",
    "        # result row\n",
    "        if row%2:\n",
    "            results_arr.append([float(x) for x in line.split()])\n",
    "        # window size\n",
    "        else:\n",
    "            winsize_arr.append(int(line))\n",
    "        if winsize_arr[-1] >= windowsize_limit:\n",
    "            break\n",
    "\n",
    "results_arr = np.array(results_arr)\n",
    "\n",
    "precision =  results_arr[:,0]\n",
    "recall =  results_arr[:,1]\n",
    "fscore =  results_arr[:,2]\n",
    "\n",
    "# precision\n",
    "trace1 = go.Scatter(\n",
    "    x = winsize_arr,\n",
    "    y = precision,\n",
    "    name = 'Precision',\n",
    "    line = dict(\n",
    "        color = ('rgb(22, 96, 167)'),\n",
    "        width = 2,)\n",
    ")\n",
    "\n",
    "# recall\n",
    "trace2 = go.Scatter(\n",
    "    x = winsize_arr,\n",
    "    y = recall,\n",
    "    name = 'Recall',\n",
    "    line = dict(\n",
    "        color = ('rgb(205, 12, 24)'),\n",
    "        width = 2)\n",
    ")\n",
    "\n",
    "# fscore\n",
    "trace3 = go.Scatter(\n",
    "    x = winsize_arr,\n",
    "    y = fscore,\n",
    "    name = 'fscore',\n",
    "    line = dict(\n",
    "        color = ('rgb(12, 205, 24)'),\n",
    "        width = 2)\n",
    ")\n",
    "\n",
    "data = [trace1, trace2, trace3]\n",
    "# Edit the layout\n",
    "layout = dict(title = title,\n",
    "              xaxis = dict(title = 'Window size'),\n",
    "              yaxis = dict(title = 'Score'),\n",
    "              height = 600,\n",
    "              width = 600\n",
    "              )\n",
    "\n",
    "# Plot and embed in ipython notebook!\n",
    "fig = dict(data=data, layout=layout)\n",
    "py.iplot(fig, filename=filename)\n"
   ]
  }
 ],
 "metadata": {
  "kernelspec": {
   "display_name": "Python 2",
   "language": "python",
   "name": "python2"
  },
  "language_info": {
   "codemirror_mode": {
    "name": "ipython",
    "version": 2
   },
   "file_extension": ".py",
   "mimetype": "text/x-python",
   "name": "python",
   "nbconvert_exporter": "python",
   "pygments_lexer": "ipython2",
   "version": "2.7.10"
  }
 },
 "nbformat": 4,
 "nbformat_minor": 0
}
