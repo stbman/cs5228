{
 "cells": [
  {
   "cell_type": "code",
   "execution_count": 2,
   "metadata": {
    "collapsed": false
   },
   "outputs": [],
   "source": [
    "#!/usr/bin/env python2\n",
    "import numpy as np\n",
    "import plotly.plotly as py\n",
    "import plotly.graph_objs as go\n",
    "\n",
    "results = [\n",
    "    #Ada Boost Decision Tree Regressor\n",
    "    (\"Ada Boost Decision Tree (k=n/2)\", 500000, \"adr2\"),\n",
    "    (\"Ada Boost Decision Tree (k=n/3)\", 500000, \"adr3\"),\n",
    "    #Bernoulli Neural Network\n",
    "    (\"Bernoulli Neural Network (k=n/2)\", 300000, \"bnn2\"),\n",
    "    (\"Bernoulli Neural Network (k=n/3)\", 300000, \"bnn3\"),\n",
    "    #Gradient Boosted Regressor\n",
    "    (\"Gradient Boosted Regressor (k=n/2)\", 300000, \"gbr2\"),\n",
    "    (\"Gradient Boosted Regressor (k=n/3)\", 300000, \"gbr3\"),\n",
    "    #Support Vector Machines\n",
    "    (\"Support Vector Machines (k=n/2)\", 300000, \"svm2\"),\n",
    "    #Decision Trees\n",
    "    (\"Decision Tree (k=n/2)\", 300000, \"tree2\"),\n",
    "    (\"Decision Tree (k=n/3)\", 300000, \"tree3\"),\n",
    "    ]\n",
    "\n",
    "for title, windowsize_limit, filename in results:\n",
    "    results_arr = []\n",
    "    winsize_arr = []\n",
    "\n",
    "    with open(\"results/\" + filename + \".txt\") as f:\n",
    "        lines = f.readlines()\n",
    "        for row, line in enumerate(lines):\n",
    "            # result row\n",
    "            if row%2:\n",
    "                results_arr.append([float(x) for x in line.split()])\n",
    "            # window size\n",
    "            else:\n",
    "                winsize_arr.append(int(line))\n",
    "            if winsize_arr[-1] >= windowsize_limit:\n",
    "                break\n",
    "\n",
    "    results_arr = np.array(results_arr)\n",
    "\n",
    "    precision =  results_arr[:,0]\n",
    "    recall =  results_arr[:,1]\n",
    "    fscore =  results_arr[:,2]\n",
    "\n",
    "    # precision\n",
    "    trace1 = go.Scatter(\n",
    "        x = winsize_arr,\n",
    "        y = precision,\n",
    "        name = 'Precision',\n",
    "        line = dict(\n",
    "            color = ('rgb(22, 96, 167)'),\n",
    "            width = 2,)\n",
    "    )\n",
    "\n",
    "    # recall\n",
    "    trace2 = go.Scatter(\n",
    "        x = winsize_arr,\n",
    "        y = recall,\n",
    "        name = 'Recall',\n",
    "        line = dict(\n",
    "            color = ('rgb(205, 12, 24)'),\n",
    "            width = 2)\n",
    "    )\n",
    "\n",
    "    # fscore\n",
    "    trace3 = go.Scatter(\n",
    "        x = winsize_arr,\n",
    "        y = fscore,\n",
    "        name = 'fscore',\n",
    "        line = dict(\n",
    "            color = ('rgb(12, 205, 24)'),\n",
    "            width = 2)\n",
    "    )\n",
    "\n",
    "    data = [trace1, trace2, trace3]\n",
    "\n",
    "    # Edit the layout\n",
    "    layout = dict(title = title,\n",
    "                  xaxis = dict(title = 'Window size'),\n",
    "                  yaxis = dict(title = 'Score'),\n",
    "                  height = 400,\n",
    "                  width = 400\n",
    "                  )\n",
    "\n",
    "    # Plot and embed in ipython notebook!\n",
    "    fig = dict(data=data, layout=layout)\n",
    "\n",
    "    #py.iplot(fig, filename=filename)\n",
    "    py.image.save_as(fig, \"img/truncated/\" + filename + \".png\")\n"
   ]
  },
  {
   "cell_type": "code",
   "execution_count": 13,
   "metadata": {
    "collapsed": false
   },
   "outputs": [
    {
     "data": {
      "text/html": [
       "<iframe id=\"igraph\" scrolling=\"no\" style=\"border:none;\"seamless=\"seamless\" src=\"https://plot.ly/~mech2/82.embed\" height=\"400px\" width=\"600px\"></iframe>"
      ],
      "text/plain": [
       "<plotly.tools.PlotlyDisplay object>"
      ]
     },
     "execution_count": 13,
     "metadata": {},
     "output_type": "execute_result"
    }
   ],
   "source": [
    "import plotly.plotly as py\n",
    "import plotly.graph_objs as go\n",
    "\n",
    "title = \"Average scores for k=n/2\"\n",
    "headers = [\"GBR\", \"ADR\", \"SVM\", \"Tree\", \"BNN\"]\n",
    "\n",
    "\n",
    "trace1 = go.Bar(\n",
    "    x=headers,\n",
    "    y=[0.82, 0.24, 0.59, 0.83, 0.45],\n",
    "    name='Precision'\n",
    ")\n",
    "trace2 = go.Bar(\n",
    "    x=headers,\n",
    "    y=[0.66, 0.29, 0.59, 0.81, 0.5],\n",
    "    name='Recall'\n",
    ")\n",
    "trace3 = go.Bar(\n",
    "    x=headers,\n",
    "    y=[0.69, 0.2, 0.57, 0.8, 0.45],\n",
    "    name='F-Score'\n",
    ")\n",
    "data = [trace1, trace2, trace3]\n",
    "layout = go.Layout(\n",
    "    title = title,\n",
    "    barmode='group',\n",
    "    height = 400,\n",
    "    width = 600\n",
    ")\n",
    "fig = go.Figure(data=data, layout=layout)\n",
    "py.iplot(fig, filename='avg_scores_k2')"
   ]
  },
  {
   "cell_type": "code",
   "execution_count": 14,
   "metadata": {
    "collapsed": false
   },
   "outputs": [
    {
     "data": {
      "text/html": [
       "<iframe id=\"igraph\" scrolling=\"no\" style=\"border:none;\"seamless=\"seamless\" src=\"https://plot.ly/~mech2/84.embed\" height=\"400px\" width=\"600px\"></iframe>"
      ],
      "text/plain": [
       "<plotly.tools.PlotlyDisplay object>"
      ]
     },
     "execution_count": 14,
     "metadata": {},
     "output_type": "execute_result"
    }
   ],
   "source": [
    "import plotly.plotly as py\n",
    "import plotly.graph_objs as go\n",
    "\n",
    "title = \"Average scores for k=n/3\"\n",
    "headers = [\"GBR\", \"ADR\", \"SVM\", \"Tree\", \"BNN\"]\n",
    "\n",
    "\n",
    "trace1 = go.Bar(\n",
    "    x=headers,\n",
    "    y=[0.9, 0.25, 0.59, 0.78, 0.62],\n",
    "    name='Precision'\n",
    ")\n",
    "trace2 = go.Bar(\n",
    "    x=headers,\n",
    "    y=[0.79, 0.27, 0.60, 0.75, 0.59],\n",
    "    name='Recall'\n",
    ")\n",
    "trace3 = go.Bar(\n",
    "    x=headers,\n",
    "    y=[0.81, 0.16, 0.59, 0.75, 0.58],\n",
    "    name='F-Score'\n",
    ")\n",
    "data = [trace1, trace2, trace3]\n",
    "layout = go.Layout(\n",
    "    title = title,\n",
    "    barmode='group',\n",
    "    height = 400,\n",
    "    width = 600\n",
    ")\n",
    "fig = go.Figure(data=data, layout=layout)\n",
    "py.iplot(fig, filename='avg_scores_k3')"
   ]
  }
 ],
 "metadata": {
  "kernelspec": {
   "display_name": "Python 2",
   "language": "python",
   "name": "python2"
  },
  "language_info": {
   "codemirror_mode": {
    "name": "ipython",
    "version": 2
   },
   "file_extension": ".py",
   "mimetype": "text/x-python",
   "name": "python",
   "nbconvert_exporter": "python",
   "pygments_lexer": "ipython2",
   "version": "2.7.10"
  }
 },
 "nbformat": 4,
 "nbformat_minor": 0
}
