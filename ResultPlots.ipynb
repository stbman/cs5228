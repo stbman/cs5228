{
 "metadata": {
  "name": "",
  "signature": "sha256:c9221349fcfaad5b3d9c1c97997e1f6ce2e6703094e2851be4fdcdcdc0d5f06d"
 },
 "nbformat": 3,
 "nbformat_minor": 0,
 "worksheets": [
  {
   "cells": [
    {
     "cell_type": "code",
     "collapsed": false,
     "input": [
      "%matplotlib inline\n",
      "import pandas as pd\n",
      "import numpy as np\n",
      "from matplotlib import pyplot as plt\n",
      "import plotly.plotly as py \n",
      "import plotly.graph_objs as go"
     ],
     "language": "python",
     "metadata": {},
     "outputs": [],
     "prompt_number": 14
    },
    {
     "cell_type": "code",
     "collapsed": false,
     "input": [
      "gbr_wo_latlong = \"data_mapred/gbr_wolatlong.txt\"\n",
      "with open(gbr_wo_latlong) as f:\n",
      "    content = f.readlines()\n",
      "content = np.array(content)\n",
      "gbr_x = content[::2]\n",
      "gbr_y = content[1::2]\n",
      "gbr_x = [int(x) for x in gbr_x]\n",
      "\n",
      "df_gbr = pd.DataFrame(columns=['prec','recall','fscore'])\n",
      "for line in gbr_y:\n",
      "    linearray = line.strip().split(' ')\n",
      "    df_gbr = df_gbr.append({'prec': float(linearray[1]),\n",
      "                    'recall': float(linearray[2]),\n",
      "                    'fscore': float(linearray[3])}, ignore_index=True)"
     ],
     "language": "python",
     "metadata": {},
     "outputs": [],
     "prompt_number": 15
    },
    {
     "cell_type": "code",
     "collapsed": false,
     "input": [
      "plt.plot(gbr_x, df_gbr['prec'])"
     ],
     "language": "python",
     "metadata": {},
     "outputs": [
      {
       "metadata": {},
       "output_type": "pyout",
       "prompt_number": 16,
       "text": [
        "[<matplotlib.lines.Line2D at 0x1078c3350>]"
       ]
      },
      {
       "metadata": {},
       "output_type": "display_data",
       "png": "[encoded data removed]",
       "text": [
        "<matplotlib.figure.Figure at 0x10789ac10>"
       ]
      }
     ],
     "prompt_number": 16
    },
    {
     "cell_type": "code",
     "collapsed": false,
     "input": [
      "py.iplot({\n",
      "    'data': [\n",
      "        Scatter(\n",
      "        x=gbr_x, \n",
      "        y=df_gbr['prec'],\n",
      "        mode='lines+markers'\n",
      "        ),\n",
      "        Scatter(\n",
      "        x=gbr_x, \n",
      "        y=df_gbr['recall'],\n",
      "        mode='lines+markers'\n",
      "        )],\n",
      "    'layout': Layout(\n",
      "        xaxis={'title': 'Window Size'},\n",
      "        yaxis={'title': 'Precision'},\n",
      "        title='Precision Recall Curve for k/2'\n",
      "    )\n",
      "}, filename='gbr.png')"
     ],
     "language": "python",
     "metadata": {},
     "outputs": [
      {
       "html": [
        "<iframe id=\"igraph\" scrolling=\"no\" style=\"border:none;\"seamless=\"seamless\" src=\"https://plot.ly/~quarbby/80.embed\" height=\"525px\" width=\"100%\"></iframe>"
       ],
       "metadata": {},
       "output_type": "pyout",
       "prompt_number": 17,
       "text": [
        "<plotly.tools.PlotlyDisplay at 0x1074eedd0>"
       ]
      }
     ],
     "prompt_number": 17
    },
    {
     "cell_type": "code",
     "collapsed": false,
     "input": [],
     "language": "python",
     "metadata": {},
     "outputs": []
    }
   ],
   "metadata": {}
  }
 ]
}